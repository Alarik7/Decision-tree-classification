{
 "cells": [
  {
   "cell_type": "code",
   "execution_count": 307,
   "id": "53cf6d4b-4af8-4478-8cf0-9d47ee5093bc",
   "metadata": {},
   "outputs": [],
   "source": [
    "from pyspark.sql import SparkSession\n",
    "spark = SparkSession.builder.config(\"spark.driver.host\",\"localhost\").appName(\"Demo\").getOrCreate()"
   ]
  },
  {
   "cell_type": "code",
   "execution_count": 308,
   "id": "fd529db2-94e1-4e6e-bb5d-bafaa0f477c4",
   "metadata": {},
   "outputs": [],
   "source": [
    "from pyspark.ml.feature import VectorAssembler\n",
    "from pyspark.ml.feature import StringIndexer\n",
    "from pyspark.ml.classification import DecisionTreeClassifier\n",
    "from pyspark.ml.evaluation import MulticlassClassificationEvaluator"
   ]
  },
  {
   "cell_type": "code",
   "execution_count": 309,
   "id": "a4115549-9019-4ee4-8636-01a0267c9db0",
   "metadata": {},
   "outputs": [],
   "source": [
    "dataset_df = spark.read.csv('youtubestat.csv', header = True, inferSchema = True)"
   ]
  },
  {
   "cell_type": "code",
   "execution_count": 310,
   "id": "fd42cd38-bcad-4891-aacd-ab2911234cdf",
   "metadata": {},
   "outputs": [
    {
     "data": {
      "text/plain": [
       "'3.4.1'"
      ]
     },
     "execution_count": 310,
     "metadata": {},
     "output_type": "execute_result"
    }
   ],
   "source": [
    "spark.version"
   ]
  },
  {
   "cell_type": "code",
   "execution_count": 311,
   "id": "2519b53e-2d5c-447d-bb9d-a5b3f6a09ad7",
   "metadata": {},
   "outputs": [
    {
     "name": "stdout",
     "output_type": "stream",
     "text": [
      "root\n",
      " |-- rank: integer (nullable = true)\n",
      " |-- Youtuber: string (nullable = true)\n",
      " |-- subscribers: integer (nullable = true)\n",
      " |-- video views: double (nullable = true)\n",
      " |-- category: string (nullable = true)\n",
      " |-- Title: string (nullable = true)\n",
      " |-- uploads: integer (nullable = true)\n",
      " |-- Country: string (nullable = true)\n",
      " |-- Abbreviation: string (nullable = true)\n",
      " |-- channel_type: string (nullable = true)\n",
      " |-- video_views_rank: integer (nullable = true)\n",
      " |-- country_rank: string (nullable = true)\n",
      " |-- channel_type_rank: string (nullable = true)\n",
      " |-- video_views_for_the_last_30_days: string (nullable = true)\n",
      " |-- lowest_monthly_earnings: double (nullable = true)\n",
      " |-- highest_monthly_earnings: double (nullable = true)\n",
      " |-- lowest_yearly_earnings: double (nullable = true)\n",
      " |-- highest_yearly_earnings: double (nullable = true)\n",
      " |-- subscribers_for_last_30_days: string (nullable = true)\n",
      " |-- created_year: string (nullable = true)\n",
      " |-- created_month: string (nullable = true)\n",
      " |-- created_date: string (nullable = true)\n",
      " |-- Gross tertiary education enrollment (%): string (nullable = true)\n",
      " |-- Population: string (nullable = true)\n",
      " |-- Unemployment rate: string (nullable = true)\n",
      " |-- Urban_population: string (nullable = true)\n",
      " |-- Latitude: string (nullable = true)\n",
      " |-- Longitude: string (nullable = true)\n",
      "\n"
     ]
    }
   ],
   "source": [
    "dataset_df.printSchema()"
   ]
  },
  {
   "cell_type": "code",
   "execution_count": 312,
   "id": "557cf2d3-a2ff-4526-9667-988d435102d1",
   "metadata": {},
   "outputs": [
    {
     "data": {
      "text/plain": [
       "['rank',\n",
       " 'Youtuber',\n",
       " 'subscribers',\n",
       " 'video views',\n",
       " 'category',\n",
       " 'Title',\n",
       " 'uploads',\n",
       " 'Country',\n",
       " 'Abbreviation',\n",
       " 'channel_type',\n",
       " 'video_views_rank',\n",
       " 'country_rank',\n",
       " 'channel_type_rank',\n",
       " 'video_views_for_the_last_30_days',\n",
       " 'lowest_monthly_earnings',\n",
       " 'highest_monthly_earnings',\n",
       " 'lowest_yearly_earnings',\n",
       " 'highest_yearly_earnings',\n",
       " 'subscribers_for_last_30_days',\n",
       " 'created_year',\n",
       " 'created_month',\n",
       " 'created_date',\n",
       " 'Gross tertiary education enrollment (%)',\n",
       " 'Population',\n",
       " 'Unemployment rate',\n",
       " 'Urban_population',\n",
       " 'Latitude',\n",
       " 'Longitude']"
      ]
     },
     "execution_count": 312,
     "metadata": {},
     "output_type": "execute_result"
    }
   ],
   "source": [
    "dataset_df.columns"
   ]
  },
  {
   "cell_type": "code",
   "execution_count": 313,
   "id": "d211645f-d815-4a8e-8e97-40e0cb2f4489",
   "metadata": {},
   "outputs": [
    {
     "name": "stdout",
     "output_type": "stream",
     "text": [
      "+----+--------------------------+-----------+---------------+----------------+--------------------------+-------+-------------+-------------+------------+\n",
      "|rank|Youtuber                  |subscribers|video views    |category        |Title                     |uploads|Country      |channel_type |country_rank|\n",
      "+----+--------------------------+-----------+---------------+----------------+--------------------------+-------+-------------+-------------+------------+\n",
      "|1   |T-Series                  |245000000  |2.28E11        |Music           |T-Series                  |20082  |India        |Music        |1           |\n",
      "|2   |YouTube Movies            |170000000  |0.0            |Film & Animation|youtubemovies             |1      |United States|Games        |7670        |\n",
      "|3   |MrBeast                   |166000000  |2.836884187E10 |Entertainment   |MrBeast                   |741    |United States|Entertainment|1           |\n",
      "|4   |Cocomelon - Nursery Rhymes|162000000  |1.64E11        |Education       |Cocomelon - Nursery Rhymes|966    |United States|Education    |2           |\n",
      "|5   |SET India                 |159000000  |1.48E11        |Shows           |SET India                 |116536 |India        |Entertainment|2           |\n",
      "|6   |Music                     |119000000  |0.0            |nan             |Music                     |0      |nan          |Music        |nan         |\n",
      "|7   |��� Kids Diana Show       |112000000  |9.3247040539E10|People & Blogs  |��� Kids Diana Show       |1111   |United States|Entertainment|3           |\n",
      "|8   |PewDiePie                 |111000000  |2.9058044447E10|Gaming          |PewDiePie                 |4716   |Japan        |Entertainment|1           |\n",
      "|9   |Like Nastya               |106000000  |9.0479060027E10|People & Blogs  |Like Nastya Vlog          |493    |Russia       |People       |5           |\n",
      "|10  |Vlad and Niki             |98900000   |7.7180169894E10|Entertainment   |Vlad and Niki             |574    |United States|Entertainment|5           |\n",
      "+----+--------------------------+-----------+---------------+----------------+--------------------------+-------+-------------+-------------+------------+\n",
      "only showing top 10 rows\n",
      "\n"
     ]
    }
   ],
   "source": [
    "dataset_df = dataset_df.drop('Abbreviation','channel_type_rank','video_views_for_the_last_30_days','created_year','created_date','Population','video_views_rank','video_views_rank','lowest_monthly_earnings','highest_monthly_earnings','lowest_yearly_earnings','highest_yearly_earnings','subscribers_for_last_30_days','created_month','created_month','Gross tertiary education enrollment (%)','Unemployment rate','Urban_population','Latitude','Longitude')\n",
    "dataset_df.show(10,False)"
   ]
  },
  {
   "cell_type": "code",
   "execution_count": 314,
   "id": "50a83aad-162d-439f-bc5f-35d08be8e5f1",
   "metadata": {},
   "outputs": [
    {
     "name": "stdout",
     "output_type": "stream",
     "text": [
      "+----+--------------------------+-----------+---------------+----------------+--------------------------+-------+-------------+-------------+------------+-------------------------------+\n",
      "|rank|Youtuber                  |subscribers|video views    |category        |Title                     |uploads|Country      |channel_type |country_rank|stats                          |\n",
      "+----+--------------------------+-----------+---------------+----------------+--------------------------+-------+-------------+-------------+------------+-------------------------------+\n",
      "|1   |T-Series                  |245000000  |2.28E11        |Music           |T-Series                  |20082  |India        |Music        |1           |[2.45E8,2.28E11,20082.0]       |\n",
      "|2   |YouTube Movies            |170000000  |0.0            |Film & Animation|youtubemovies             |1      |United States|Games        |7670        |[1.7E8,0.0,1.0]                |\n",
      "|3   |MrBeast                   |166000000  |2.836884187E10 |Entertainment   |MrBeast                   |741    |United States|Entertainment|1           |[1.66E8,2.836884187E10,741.0]  |\n",
      "|4   |Cocomelon - Nursery Rhymes|162000000  |1.64E11        |Education       |Cocomelon - Nursery Rhymes|966    |United States|Education    |2           |[1.62E8,1.64E11,966.0]         |\n",
      "|5   |SET India                 |159000000  |1.48E11        |Shows           |SET India                 |116536 |India        |Entertainment|2           |[1.59E8,1.48E11,116536.0]      |\n",
      "|6   |Music                     |119000000  |0.0            |nan             |Music                     |0      |nan          |Music        |nan         |[1.19E8,0.0,0.0]               |\n",
      "|7   |��� Kids Diana Show       |112000000  |9.3247040539E10|People & Blogs  |��� Kids Diana Show       |1111   |United States|Entertainment|3           |[1.12E8,9.3247040539E10,1111.0]|\n",
      "|8   |PewDiePie                 |111000000  |2.9058044447E10|Gaming          |PewDiePie                 |4716   |Japan        |Entertainment|1           |[1.11E8,2.9058044447E10,4716.0]|\n",
      "|9   |Like Nastya               |106000000  |9.0479060027E10|People & Blogs  |Like Nastya Vlog          |493    |Russia       |People       |5           |[1.06E8,9.0479060027E10,493.0] |\n",
      "|10  |Vlad and Niki             |98900000   |7.7180169894E10|Entertainment   |Vlad and Niki             |574    |United States|Entertainment|5           |[9.89E7,7.7180169894E10,574.0] |\n",
      "+----+--------------------------+-----------+---------------+----------------+--------------------------+-------+-------------+-------------+------------+-------------------------------+\n",
      "only showing top 10 rows\n",
      "\n"
     ]
    }
   ],
   "source": [
    "\n",
    "assemblerInputs = ['subscribers','video views','uploads']\n",
    "vector_assembler = VectorAssembler(inputCols = assemblerInputs , outputCol = 'stats')\n",
    "assembler_temp = vector_assembler.transform(dataset_df)\n",
    "assembler_temp.show(10,False)"
   ]
  },
  {
   "cell_type": "code",
   "execution_count": 315,
   "id": "a41be911-a581-4708-b866-a3cf7615b078",
   "metadata": {},
   "outputs": [],
   "source": [
    "assembler = assembler_temp.drop('subscribers','video views','uploads')"
   ]
  },
  {
   "cell_type": "code",
   "execution_count": 316,
   "id": "1011d04b-438d-418a-89be-88f7f78081c4",
   "metadata": {},
   "outputs": [
    {
     "name": "stdout",
     "output_type": "stream",
     "text": [
      "+-------------+\n",
      "|      Country|\n",
      "+-------------+\n",
      "|       Russia|\n",
      "|       Sweden|\n",
      "|  Philippines|\n",
      "|    Singapore|\n",
      "|     Malaysia|\n",
      "|       Turkey|\n",
      "|         Iraq|\n",
      "|      Germany|\n",
      "|  Afghanistan|\n",
      "|       Jordan|\n",
      "|       France|\n",
      "|    Argentina|\n",
      "|      Ecuador|\n",
      "|      Finland|\n",
      "|         Peru|\n",
      "|        India|\n",
      "|United States|\n",
      "|        China|\n",
      "|       Kuwait|\n",
      "|        Chile|\n",
      "+-------------+\n",
      "only showing top 20 rows\n",
      "\n"
     ]
    }
   ],
   "source": [
    "assembler.select(\"Country\").distinct().show()"
   ]
  },
  {
   "cell_type": "code",
   "execution_count": 317,
   "id": "82824cde-305c-4e53-b591-432db07036ad",
   "metadata": {},
   "outputs": [
    {
     "name": "stdout",
     "output_type": "stream",
     "text": [
      "+----+--------------------------+----------------+--------------------------+-------------+-------------+------------+-------------------------------+-------------+\n",
      "|rank|Youtuber                  |category        |Title                     |Country      |channel_type |country_rank|stats                          |country_index|\n",
      "+----+--------------------------+----------------+--------------------------+-------------+-------------+------------+-------------------------------+-------------+\n",
      "|1   |T-Series                  |Music           |T-Series                  |India        |Music        |1           |[2.45E8,2.28E11,20082.0]       |1.0          |\n",
      "|2   |YouTube Movies            |Film & Animation|youtubemovies             |United States|Games        |7670        |[1.7E8,0.0,1.0]                |0.0          |\n",
      "|3   |MrBeast                   |Entertainment   |MrBeast                   |United States|Entertainment|1           |[1.66E8,2.836884187E10,741.0]  |0.0          |\n",
      "|4   |Cocomelon - Nursery Rhymes|Education       |Cocomelon - Nursery Rhymes|United States|Education    |2           |[1.62E8,1.64E11,966.0]         |0.0          |\n",
      "|5   |SET India                 |Shows           |SET India                 |India        |Entertainment|2           |[1.59E8,1.48E11,116536.0]      |1.0          |\n",
      "|6   |Music                     |nan             |Music                     |nan          |Music        |nan         |[1.19E8,0.0,0.0]               |2.0          |\n",
      "|7   |��� Kids Diana Show       |People & Blogs  |��� Kids Diana Show       |United States|Entertainment|3           |[1.12E8,9.3247040539E10,1111.0]|0.0          |\n",
      "|8   |PewDiePie                 |Gaming          |PewDiePie                 |Japan        |Entertainment|1           |[1.11E8,2.9058044447E10,4716.0]|22.0         |\n",
      "|9   |Like Nastya               |People & Blogs  |Like Nastya Vlog          |Russia       |People       |5           |[1.06E8,9.0479060027E10,493.0] |10.0         |\n",
      "|10  |Vlad and Niki             |Entertainment   |Vlad and Niki             |United States|Entertainment|5           |[9.89E7,7.7180169894E10,574.0] |0.0          |\n",
      "+----+--------------------------+----------------+--------------------------+-------------+-------------+------------+-------------------------------+-------------+\n",
      "only showing top 10 rows\n",
      "\n"
     ]
    }
   ],
   "source": [
    "country_index = StringIndexer(inputCol = \"Country\" , outputCol = \"country_index\")\n",
    "newdataset = country_index.fit(assembler).transform(assembler)\n",
    "newdataset.show(10,False)"
   ]
  },
  {
   "cell_type": "code",
   "execution_count": 318,
   "id": "db3d1793-0bf2-4754-9b87-ee07d4abe33b",
   "metadata": {},
   "outputs": [],
   "source": [
    "(training_data, testing_data) = newdataset.randomSplit([0.8, 0.2], seed=42)\n",
    "dt_classifier = DecisionTreeClassifier(featuresCol=\"stats\", labelCol=\"country_index\")\n",
    "dt_model = dt_classifier.fit(training_data)\n",
    "predictions = dt_model.transform(testing_data)"
   ]
  },
  {
   "cell_type": "code",
   "execution_count": 319,
   "id": "afca35ae-e383-4788-93fb-4d079ff43c29",
   "metadata": {},
   "outputs": [
    {
     "name": "stdout",
     "output_type": "stream",
     "text": [
      "+----------+-------------+\n",
      "|prediction|country_index|\n",
      "+----------+-------------+\n",
      "|0.0       |0.0          |\n",
      "|0.0       |0.0          |\n",
      "|0.0       |10.0         |\n",
      "|0.0       |9.0          |\n",
      "|0.0       |11.0         |\n",
      "|0.0       |3.0          |\n",
      "|0.0       |0.0          |\n",
      "|0.0       |0.0          |\n",
      "|0.0       |0.0          |\n",
      "|0.0       |10.0         |\n",
      "|0.0       |1.0          |\n",
      "|0.0       |0.0          |\n",
      "|2.0       |2.0          |\n",
      "|0.0       |3.0          |\n",
      "|2.0       |2.0          |\n",
      "|0.0       |37.0         |\n",
      "|2.0       |2.0          |\n",
      "|0.0       |2.0          |\n",
      "|0.0       |0.0          |\n",
      "|0.0       |14.0         |\n",
      "|0.0       |6.0          |\n",
      "|0.0       |1.0          |\n",
      "|0.0       |6.0          |\n",
      "|0.0       |1.0          |\n",
      "|0.0       |0.0          |\n",
      "+----------+-------------+\n",
      "only showing top 25 rows\n",
      "\n"
     ]
    }
   ],
   "source": [
    "predictions.select(\"prediction\",\"country_index\").show(25,False)"
   ]
  },
  {
   "cell_type": "code",
   "execution_count": 320,
   "id": "fa1ab298-7a4a-4159-ad6e-ab68d990bf7c",
   "metadata": {},
   "outputs": [
    {
     "name": "stdout",
     "output_type": "stream",
     "text": [
      "Accuracy: 0.38509316770186336\n"
     ]
    }
   ],
   "source": [
    "evaluator = MulticlassClassificationEvaluator(labelCol=\"country_index\", predictionCol=\"prediction\", metricName=\"accuracy\")\n",
    "accuracy = evaluator.evaluate(predictions)\n",
    "\n",
    "print(\"Accuracy:\", accuracy)\n"
   ]
  },
  {
   "cell_type": "code",
   "execution_count": 321,
   "id": "bc3e2b96-431e-4820-93ae-07ecf272c69f",
   "metadata": {},
   "outputs": [
    {
     "name": "stdout",
     "output_type": "stream",
     "text": [
      "Test Error = 0.614907 \n"
     ]
    }
   ],
   "source": [
    "print(\"Test Error = %g \" % (1.0 - accuracy))"
   ]
  }
 ],
 "metadata": {
  "kernelspec": {
   "display_name": "Python 3 (ipykernel)",
   "language": "python",
   "name": "python3"
  },
  "language_info": {
   "codemirror_mode": {
    "name": "ipython",
    "version": 3
   },
   "file_extension": ".py",
   "mimetype": "text/x-python",
   "name": "python",
   "nbconvert_exporter": "python",
   "pygments_lexer": "ipython3",
   "version": "3.10.2"
  }
 },
 "nbformat": 4,
 "nbformat_minor": 5
}
